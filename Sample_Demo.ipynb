{
 "cells": [
  {
   "cell_type": "markdown",
   "metadata": {},
   "source": [
    "# First Program"
   ]
  },
  {
   "cell_type": "markdown",
   "metadata": {},
   "source": [
    "print('Hi')"
   ]
  },
  {
   "cell_type": "raw",
   "metadata": {},
   "source": [
    "1. Write a program to fetch the item only within range between 50 to 70\n",
    "lst = [34,67,55,33,12,98]"
   ]
  },
  {
   "cell_type": "code",
   "execution_count": 2,
   "metadata": {},
   "outputs": [
    {
     "name": "stdout",
     "output_type": "stream",
     "text": [
      "67\n",
      "55\n"
     ]
    }
   ],
   "source": [
    "lst = [34,67,55,33,12,98]\n",
    "for i in lst:\n",
    "    if 50<i<70:\n",
    "        print(i)\n"
   ]
  },
  {
   "cell_type": "raw",
   "metadata": {},
   "source": [
    "2. Write a program to print only String data type value from the given List"
   ]
  },
  {
   "cell_type": "code",
   "execution_count": 14,
   "metadata": {},
   "outputs": [
    {
     "name": "stdout",
     "output_type": "stream",
     "text": [
      "abc\n",
      "Babu\n"
     ]
    }
   ],
   "source": [
    "lst1 = ['abc', 100, 10.10, True, 'Babu']\n",
    "lst2= len(lst1)\n",
    "for i in range(lst2):\n",
    "    if ('str' in str(type(lst1[i]))):\n",
    "        print(lst1[i])"
   ]
  },
  {
   "cell_type": "raw",
   "metadata": {},
   "source": [
    "3. Write a program to replace only String values as none.\n",
    "lst = ['abc', 100, 10.10, True, 'Babu'] -------> [None, 100, 10.10, True, None]"
   ]
  },
  {
   "cell_type": "code",
   "execution_count": 20,
   "metadata": {},
   "outputs": [
    {
     "name": "stdout",
     "output_type": "stream",
     "text": [
      "None\n",
      "['None', 100, 10.1, True, 'Babu']\n",
      "None\n",
      "['None', 100, 10.1, True, 'None']\n"
     ]
    }
   ],
   "source": [
    "lst = ['abc', 100, 10.10, True, 'Babu']\n",
    "lst2= len(lst)\n",
    "for i in range(lst2):\n",
    "    if ('str' in str(type(lst[i]))):\n",
    "        lst[i]='None'\n",
    "        print(lst[i])\n",
    "        print(lst)\n"
   ]
  },
  {
   "cell_type": "raw",
   "metadata": {},
   "source": [
    "4. Write a program which accepts a sequence of comma-separated numbers from console and generate a list    and a tuple which contains every number.\n",
    "\t\n",
    "\tinput  : 34,67,55,33,12,98\n",
    "\toutput : ['34', '67', '55', '33', '12', '98']\n",
    "\t\t ('34', '67', '55', '33', '12', '98')"
   ]
  },
  {
   "cell_type": "code",
   "execution_count": 58,
   "metadata": {},
   "outputs": [
    {
     "name": "stdout",
     "output_type": "stream",
     "text": [
      "33,33\n",
      "33,33\n"
     ]
    },
    {
     "data": {
      "text/plain": [
       "str"
      ]
     },
     "execution_count": 58,
     "metadata": {},
     "output_type": "execute_result"
    }
   ],
   "source": [
    "i=[]\n",
    "i=input()\n",
    "list(i.split(\",\"))\n",
    "print(i)\n",
    "type(i)"
   ]
  },
  {
   "cell_type": "code",
   "execution_count": 59,
   "metadata": {},
   "outputs": [
    {
     "data": {
      "text/plain": [
       "list"
      ]
     },
     "execution_count": 59,
     "metadata": {},
     "output_type": "execute_result"
    }
   ],
   "source": [
    "lst = ['abc', 100, 10.10, True, 'Babu']\n",
    "type(lst)"
   ]
  },
  {
   "cell_type": "code",
   "execution_count": null,
   "metadata": {},
   "outputs": [],
   "source": []
  }
 ],
 "metadata": {
  "kernelspec": {
   "display_name": "Python 3",
   "language": "python",
   "name": "python3"
  },
  "language_info": {
   "codemirror_mode": {
    "name": "ipython",
    "version": 3
   },
   "file_extension": ".py",
   "mimetype": "text/x-python",
   "name": "python",
   "nbconvert_exporter": "python",
   "pygments_lexer": "ipython3",
   "version": "3.7.3"
  }
 },
 "nbformat": 4,
 "nbformat_minor": 2
}
